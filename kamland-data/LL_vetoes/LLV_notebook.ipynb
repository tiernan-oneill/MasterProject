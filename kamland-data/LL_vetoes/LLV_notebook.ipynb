{
 "cells": [
  {
   "cell_type": "markdown",
   "metadata": {},
   "source": [
    "This notebook is used to study the long lived veto tagging effects over the 800 run. First the LLVs are studied on a yearly and monthly basis by looking at different events based on their unixtime. The data file LLV_fractions.dat and the PNG images Evis_LLV.png and LLV_fractions.png are produced here."
   ]
  },
  {
   "cell_type": "code",
   "execution_count": 1,
   "metadata": {},
   "outputs": [
    {
     "name": "stdout",
     "output_type": "stream",
     "text": [
      "Welcome to JupyROOT 6.26/04\n"
     ]
    }
   ],
   "source": [
    "import ROOT\n",
    "import ctypes\n",
    "import numpy as np\n",
    "from datetime import datetime\n",
    "import matplotlib.pyplot as plt\n",
    "from tqdm import tqdm"
   ]
  },
  {
   "cell_type": "code",
   "execution_count": 2,
   "metadata": {},
   "outputs": [],
   "source": [
    "# Extract time intervals for each year from unixtime info file\n",
    "dat_file = open(\"unixtime_info.dat\", 'r')\n",
    "dat_lines = dat_file.readlines()\n",
    "dat_lines = dat_lines[2:]  # ignore the first and second line of the file\n",
    "\n",
    "# Create a list of years useful for loops later\n",
    "year_list = []\n",
    "\n",
    "for line in dat_lines:\n",
    "    data = line.strip().split()\n",
    "    exec(f'unixtime_{data[0]} = {int(data[1]), int(data[2])}')\n",
    "\n",
    "    year_list.append(int(data[0]))\n",
    "\n",
    "# Close the data file\n",
    "dat_file.close()"
   ]
  },
  {
   "cell_type": "code",
   "execution_count": 3,
   "metadata": {},
   "outputs": [],
   "source": [
    "# Load in root file and get tree data\n",
    "root_file =  ROOT.TFile(\"../AllDataZen800Single-DoubleBeta.root\")\n",
    "tree = root_file.Get(\"nt\")"
   ]
  },
  {
   "cell_type": "code",
   "execution_count": 4,
   "metadata": {},
   "outputs": [],
   "source": [
    "# Functions to read total unixtime, then specifically the year and month\n",
    "def unixtime_read(tree_input, event):\n",
    "    \n",
    "    # Read data from the specified event\n",
    "    var = ctypes.c_int()\n",
    "    tree_input.SetBranchAddress(\"unixtime\", var)\n",
    "    tree_input.GetEntry(event)\n",
    "    unixtime = var.value\n",
    "    date_and_time = datetime.fromtimestamp(unixtime)\n",
    "    \n",
    "    return date_and_time.timetuple()\n",
    "\n",
    "def unixtime_year(tree_input, event):\n",
    "    \n",
    "    # Read data from the specified event\n",
    "    var = ctypes.c_int()\n",
    "    tree_input.SetBranchAddress(\"unixtime\", var)\n",
    "    tree_input.GetEntry(event)\n",
    "    unixtime = var.value\n",
    "    date_and_time = datetime.fromtimestamp(unixtime)\n",
    "    year = date_and_time.timetuple()[0]\n",
    "    \n",
    "    return year\n",
    "\n",
    "def unixtime_month(tree_input, event):\n",
    "    \n",
    "    # Read data from the specified event\n",
    "    var = ctypes.c_int()\n",
    "    tree_input.SetBranchAddress(\"unixtime\", var)\n",
    "    tree_input.GetEntry(event)\n",
    "    unixtime = var.value\n",
    "    date_and_time = datetime.fromtimestamp(unixtime)\n",
    "    month = date_and_time.timetuple()[1]\n",
    "    \n",
    "    return month"
   ]
  },
  {
   "cell_type": "code",
   "execution_count": 5,
   "metadata": {},
   "outputs": [
    {
     "name": "stderr",
     "output_type": "stream",
     "text": [
      "Info in <TCanvas::Print>: png file Evis_LLV.png has been created\n"
     ]
    }
   ],
   "source": [
    "# Draw Evis comparing the spectra over different time intervals looking at LLV effects\n",
    "\n",
    "# Load in other root file\n",
    "root_file_old =  ROOT.TFile(\"../FileFromArticleSingle-DoubleBeta.root\")\n",
    "\n",
    "# Get tree data\n",
    "tree_all = root_file.Get(\"nt\")\n",
    "tree_old = root_file_old.Get(\"nt\")\n",
    "\n",
    "# Create histogram parameters\n",
    "Ebin_width = 0.05  # in MeV units\n",
    "x_min = 0.5\n",
    "x_max = 5\n",
    "num_of_bins = int((x_max - x_min)/Ebin_width)\n",
    "\n",
    "# Create histograms\n",
    "hist1 = ROOT.TH1F(\"hist1\", \"Energy Spectra and the LL veto\", num_of_bins, x_min, x_max)\n",
    "hist2 = ROOT.TH1F(\"hist2\", \"LLV Data from Article\", num_of_bins, x_min, x_max)\n",
    "hist3 = ROOT.TH1F(\"hist3\", \"LLV Data after Article\", num_of_bins, x_min, x_max)\n",
    "hist4 = ROOT.TH1F(\"hist4\", \"Total LLV\", num_of_bins, x_min, x_max)\n",
    "\n",
    "# Define veto criterion\n",
    "LLV = \"LLveto_3D==0\"\n",
    "unixtime_data = \"unixtime > 1626910271\"  # only include events after the original set of data\n",
    "combined = LLV + \"&&\" + unixtime_data\n",
    "\n",
    "# Select the relevant branch data for each histogram\n",
    "tree_all.Draw(\"Evis >> hist1\", \"\", \"goff\")\n",
    "tree_old.Draw(\"Evis >> hist2\", LLV, \"goff\")   # goff means no graphics output\n",
    "tree_all.Draw(\"Evis >> hist3\", combined, \"goff\")\n",
    "tree_all.Draw(\"Evis >> hist4\", LLV, \"goff\") \n",
    "\n",
    "# Create canvas for plotting and draw histograms to it\n",
    "canvas = ROOT.TCanvas('c1', 'canvas title', 0, 0, 1000, 700)  # last two parameters are graph width and height respectively\n",
    "hist1.Draw()\n",
    "hist2.Draw('SAME')\n",
    "hist3.Draw('SAME')\n",
    "hist4.Draw('SAME')\n",
    "\n",
    "# Draw vertical lines to show the region of interest for 0vbb\n",
    "vertical_line1 = ROOT.TLine(2.35, 1e-1, 2.35, 1e6)\n",
    "vertical_line2 = ROOT.TLine(2.7, 1e-1, 2.7, 1e6)\n",
    "vertical_line1.SetLineStyle(ROOT.kDashed)\n",
    "vertical_line1.SetLineColor(ROOT.kBlack)\n",
    "vertical_line1.Draw()\n",
    "vertical_line2.SetLineStyle(ROOT.kDashed)\n",
    "vertical_line2.SetLineColor(ROOT.kBlack)\n",
    "vertical_line2.Draw()\n",
    "\n",
    "# Make a logarithmic y axis\n",
    "ROOT.gPad.SetLogy()\n",
    "\n",
    "# Edit the histogram colours\n",
    "hist1.SetLineColor(ROOT.kRed)\n",
    "hist2.SetLineColor(ROOT.kBlack)\n",
    "hist3.SetLineColor(ROOT.kGreen)\n",
    "hist4.SetLineColor(ROOT.kBlue)\n",
    "\n",
    "# Create a legend\n",
    "legend = ROOT.TLegend(0.7, 0.7, 0.9, 0.9)\n",
    "legend.AddEntry(hist1, \"All Data\", \"L\")\n",
    "legend.AddEntry(hist2, \"LLV Data from Article\", \"L\")\n",
    "legend.AddEntry(hist3, \"LLV Data after Article\", \"L\")\n",
    "legend.AddEntry(hist4, \"Total LLV\", \"L\")\n",
    "legend.Draw()\n",
    "\n",
    "# Disable the stats box \n",
    "hist1.SetStats(0)\n",
    "\n",
    "# Set axis titles and y axis range\n",
    "hist1.GetXaxis().SetTitle(\"Visible Energy (MeV)\")\n",
    "hist1.GetYaxis().SetTitle(\"Events/0.05MeV\")\n",
    "hist1.GetYaxis().SetRangeUser(0.1, 1e6)\n",
    "\n",
    "canvas.Update()\n",
    "\n",
    "# Save the image\n",
    "canvas.SaveAs(\"Evis_LLV.png\")"
   ]
  },
  {
   "cell_type": "code",
   "execution_count": 6,
   "metadata": {},
   "outputs": [],
   "source": [
    "# Function to measure the amount of LLVs within a time period and check LLV monthly\n",
    "def LLveto_func_month(tree_input, time_start, time_end):\n",
    "    \n",
    "    # Create counters for LLV and total events in the interval for each month\n",
    "    veto_num = np.zeros(12)\n",
    "    total_events = np.zeros(12)\n",
    "\n",
    "    # Set variables to store branch information we're interested in\n",
    "    LLV_var = ctypes.c_int()\n",
    "    unixtime_var = ctypes.c_int()\n",
    "    tree_input.SetBranchAddress(\"LLveto_3D\", LLV_var)\n",
    "    tree_input.SetBranchAddress(\"unixtime\", unixtime_var)\n",
    "\n",
    "    # Loop over all events\n",
    "    num_entries = tree_input.GetEntries()\n",
    "    for event_num in range(num_entries):\n",
    "        tree_input.GetEntry(event_num)\n",
    "        unixtime = unixtime_var.value\n",
    "        veto_bool = LLV_var.value\n",
    "\n",
    "        # Check each month\n",
    "        for i in range(1, 13):\n",
    "            # Check that we are only looking at a specified time interval (year)\n",
    "            if unixtime>=time_start and unixtime<=time_end:\n",
    "                date_and_time = datetime.fromtimestamp(unixtime)\n",
    "            \n",
    "                # Store veto information for each month\n",
    "                if date_and_time.timetuple()[1]==i:\n",
    "                    total_events[i-1] += 1\n",
    "                    veto_num[i-1] += veto_bool\n",
    "    \n",
    "    return veto_num, total_events"
   ]
  },
  {
   "cell_type": "code",
   "execution_count": 7,
   "metadata": {},
   "outputs": [
    {
     "name": "stderr",
     "output_type": "stream",
     "text": [
      "  0%|          | 0/5 [00:00<?, ?it/s]"
     ]
    },
    {
     "name": "stderr",
     "output_type": "stream",
     "text": [
      " 80%|████████  | 4/5 [40:19<10:12, 612.90s/it]<string>:1: RuntimeWarning: invalid value encountered in double_scalars\n",
      "100%|██████████| 5/5 [45:55<00:00, 551.05s/it]\n"
     ]
    }
   ],
   "source": [
    "# Determine LLV number and total number of events for each year and month\n",
    "for year in tqdm(year_list):\n",
    "    # Determine LLV number and total number of events for each year\n",
    "    exec(f'LLV_{year} = LLveto_func_month(tree_input=tree, time_start=unixtime_{year}[0], time_end=unixtime_{year}[1])')\n",
    "\n",
    "    exec(f'LLV_fractions_{year} = np.zeros(12)')\n",
    "    for i in range(12):\n",
    "        # Determine LLV fraction for each year and month\n",
    "        exec(f'LLV_fractions_{year}[i] = LLV_{year}[0][i]/LLV_{year}[1][i]')"
   ]
  },
  {
   "cell_type": "code",
   "execution_count": 8,
   "metadata": {},
   "outputs": [],
   "source": [
    "# Save the monthly LLV data to a new file\n",
    "LLV_file = open(\"LLV_fractions.dat\", \"w\")\n",
    "\n",
    "LLV_file.write(\"# Year    Month    LLV_num    Total_event_num    LLV_fraction \\n\")\n",
    "for year in year_list:\n",
    "    for i in range(12):\n",
    "        exec(f'LLV_num = LLV_{year}[0][i]')\n",
    "        exec(f'Total_event_num = LLV_{year}[1][i]')\n",
    "        exec(f'LLV_fraction = LLV_fractions_{year}[i]')\n",
    "        LLV_file.write(f\"{year}    {i+1}    {int(LLV_num)}    {int(Total_event_num)}    {LLV_fraction}    \\n\")\n",
    "\n",
    "LLV_file.close()"
   ]
  },
  {
   "cell_type": "code",
   "execution_count": 7,
   "metadata": {},
   "outputs": [],
   "source": [
    "# Once the file has been written, read data from it\n",
    "LLV_file = open(\"LLV_fractions.dat\", \"r\")\n",
    "LLV_lines = LLV_file.readlines()\n",
    "LLV_lines = LLV_lines[1:]  # remove the first line of the file\n",
    "LLV_lines = LLV_lines[:-7]  # remove the last seven lines of the file (nan fraction values)\n",
    "\n",
    "# Store data in array\n",
    "for year in year_list:\n",
    "    exec(f'LLV_fractions_{year} = np.zeros(12)')\n",
    "for line in LLV_lines:\n",
    "    data = line.strip().split()\n",
    "    exec(f'LLV_fractions_{data[0]}[int(data[1])-1] = {float(data[4])}')\n",
    "\n",
    "# Close the data file\n",
    "LLV_file.close()"
   ]
  },
  {
   "cell_type": "code",
   "execution_count": 8,
   "metadata": {},
   "outputs": [
    {
     "data": {
      "image/png": "[encoded data removed]",
      "text/plain": [
       "<Figure size 432x288 with 1 Axes>"
      ]
     },
     "metadata": {
      "needs_background": "light"
     },
     "output_type": "display_data"
    }
   ],
   "source": [
    "# Now plot the LLV fraction for each year and month\n",
    "fig, ax = plt.subplots()\n",
    "for year in year_list:\n",
    "    exec(f'ax.plot(np.arange(1, 13), LLV_fractions_{year}, label=\"{year}\")')\n",
    "\n",
    "# Set axis labels and title\n",
    "ax.set_xlabel(\"Month\")\n",
    "ax.set_ylabel(\"LLV Fraction\")\n",
    "ax.set_title(\"LLV Fraction for Each Year and Month\")\n",
    "\n",
    "# Create a legend\n",
    "ax.legend();"
   ]
  },
  {
   "cell_type": "code",
   "execution_count": 9,
   "metadata": {},
   "outputs": [
    {
     "data": {
      "image/png": "[encoded data removed]",
      "text/plain": [
       "<Figure size 1008x432 with 1 Axes>"
      ]
     },
     "metadata": {
      "needs_background": "light"
     },
     "output_type": "display_data"
    }
   ],
   "source": [
    "# Now make one plot for all years and save as png\n",
    "\n",
    "# Edit figure size\n",
    "plt.figure(figsize=(14, 6))\n",
    "\n",
    "plt.scatter(np.arange(1, 13), LLV_fractions_2019, label=\"2019\")\n",
    "plt.scatter(12+np.arange(1, 13), LLV_fractions_2020, label=\"2020\")\n",
    "plt.scatter(24+np.arange(1, 13), LLV_fractions_2021, label=\"2021\")\n",
    "plt.scatter(36+np.arange(1, 13), LLV_fractions_2022, label=\"2022\")\n",
    "plt.scatter(48+np.arange(1, 13), LLV_fractions_2023, label=\"2023\")\n",
    "\n",
    "# Set axis labels and title\n",
    "plt.xlabel(\"Month Number Starting 2019\")\n",
    "plt.ylabel(\"LLV Fraction\")\n",
    "plt.title(\"LLV Fraction over the 800 Run\")\n",
    "\n",
    "# Plot vertical lines\n",
    "plt.axvline(x = 53.1, color = \"black\", linestyle = \"dashdot\", label = 'End of Run')\n",
    "plt.axvline(x = 31.4, color = \"gray\", linestyle = \"dashed\", label = 'Data from Article')\n",
    "\n",
    "# Create a legend\n",
    "plt.legend()\n",
    "plt.savefig(\"LLV_fractions.png\");"
   ]
  },
  {
   "cell_type": "code",
   "execution_count": 10,
   "metadata": {},
   "outputs": [
    {
     "name": "stdout",
     "output_type": "stream",
     "text": [
      "2019 Mean: 0.07846848137444094\n",
      "2019 Variance: 0.0001119694631995491\n",
      "\n",
      "2020 Mean: 0.06747345907861933\n",
      "2020 Variance: 0.00025895375698741337\n",
      "\n",
      "2021 Mean: 0.0698588977751643\n",
      "2021 Variance: 0.0001738518000915496\n",
      "\n",
      "2022 Mean: 0.05570751375676725\n",
      "2022 Variance: 0.00011277893696270965\n",
      "\n",
      "2023 Mean: 0.07172151614397071\n",
      "2023 Variance: 0.00022427887516482644\n",
      "\n"
     ]
    }
   ],
   "source": [
    "# Study mean and variance of LLV fractions for each year\n",
    "for year in year_list:\n",
    "\n",
    "    # Account for the fact that 2023 only has 5 months of data\n",
    "    if year==2023:\n",
    "        array = np.zeros(5)\n",
    "        for i in range(0,5):\n",
    "            array[i] = LLV_fractions_2023[i]\n",
    "        mean = np.mean(array)\n",
    "        variance = np.var(array)\n",
    "        exec(f'print(\"{year} Mean: {mean}\")')\n",
    "        exec(f'print(\"{year} Variance: {variance}\")')\n",
    "        exec(f'print(\"\")')\n",
    "        \n",
    "    else:    \n",
    "        mean = np.mean(eval(f'LLV_fractions_{year}'))\n",
    "        variance = np.var(eval(f'LLV_fractions_{year}'))\n",
    "        exec(f'print(\"{year} Mean: {mean}\")')\n",
    "        exec(f'print(\"{year} Variance: {variance}\")')\n",
    "        exec(f'print(\"\")')"
   ]
  },
  {
   "cell_type": "code",
   "execution_count": null,
   "metadata": {},
   "outputs": [],
   "source": []
  }
 ],
 "metadata": {
  "kernelspec": {
   "display_name": "Python 3",
   "language": "python",
   "name": "python3"
  },
  "language_info": {
   "codemirror_mode": {
    "name": "ipython",
    "version": 3
   },
   "file_extension": ".py",
   "mimetype": "text/x-python",
   "name": "python",
   "nbconvert_exporter": "python",
   "pygments_lexer": "ipython3",
   "version": "3.9.12"
  }
 },
 "nbformat": 4,
 "nbformat_minor": 2
}
